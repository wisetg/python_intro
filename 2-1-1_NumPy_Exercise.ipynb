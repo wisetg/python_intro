{
 "cells": [
  {
   "cell_type": "markdown",
   "metadata": {},
   "source": [
    "# 문제: 크기가 10 (원소 갯수: 10)인 array_a 배열이 주어졌을 때, 강의실 스크린의 결과와 동일한 값들을 갖는 배열의 형태가 10 by 10 (행 크기:10, 열 크기:10)인 2차원 array_b 배열을 생성하는 프로그램을 작성하시오.\n",
    "### 2차원 배열 array_b 안의 모든 원소값은 반드시[[  1   2   3   4   5   6   7   8   9  10]
 [  2   4   6   8  10  12  14  16  18  20]
 [  3   6   9  12  15  18  21  24  27  30]
 [  4   8  12  16  20  24  28  32  36  40]
 [  5  10  15  20  25  30  35  40  45  50]
 [  6  12  18  24  30  36  42  48  54  60]
 [  7  14  21  28  35  42  49  56  63  70]
 [  8  16  24  32  40  48  56  64  72  80]
 [  9  18  27  36  45  54  63  72  81  90]
 [ 10  20  30  40  50  60  70  80  90 100]] 값과 동일해야 함.\n",
    "### Hint: for loop 과 enumerate() 함수를 이용 혹은 NumPy의 broadcasting 기법 활용"
   ]
  },
  {
   "cell_type": "code",
   "execution_count": 1,
   "metadata": {},
   "outputs": [],
   "source": [
    "import numpy as np"
   ]
  },
  {
   "cell_type": "code",
   "execution_count": 2,
   "metadata": {},
   "outputs": [
    {
     "name": "stdout",
     "output_type": "stream",
     "text": [
      "10\n",
      "(10,)\n",
      "[ 1  2  3  4  5  6  7  8  9 10]\n"
     ]
    }
   ],
   "source": [
    "array_a = np.arange(1,11)\n",
    "print(array_a.size)\n",
    "print(array_a.shape)\n",
    "print(array_a)"
   ]
  },
  {
   "cell_type": "code",
   "execution_count": 3,
   "metadata": {},
   "outputs": [
    {
     "name": "stdout",
     "output_type": "stream",
     "text": [
      "[ 1  2  3  4  5  6  7  8  9 10]\n",
      "[ 2  4  6  8 10 12 14 16 18 20]\n",
      "[ 3  6  9 12 15 18 21 24 27 30]\n",
      "[ 4  8 12 16 20 24 28 32 36 40]\n",
      "[ 5 10 15 20 25 30 35 40 45 50]\n",
      "[ 6 12 18 24 30 36 42 48 54 60]\n",
      "[ 7 14 21 28 35 42 49 56 63 70]\n",
      "[ 8 16 24 32 40 48 56 64 72 80]\n",
      "[ 9 18 27 36 45 54 63 72 81 90]\n",
      "[ 10  20  30  40  50  60  70  80  90 100]\n"
     ]
    }
   ],
   "source": [
    "import numpy as np\n",
    "array_b=np.arange(1,11)\n",
    "for i in range (1,11):\n",
    "    array_result=array_b*i\n",
    "    print(array_result)"
   ]
  },
  {
   "cell_type": "code",
   "execution_count": 4,
   "metadata": {},
   "outputs": [
    {
     "name": "stdout",
     "output_type": "stream",
     "text": [
      "100\n",
      "(10, 10)\n",
      "[[  1   2   3   4   5   6   7   8   9  10]\n",
      " [  2   4   6   8  10  12  14  16  18  20]\n",
      " [  3   6   9  12  15  18  21  24  27  30]\n",
      " [  4   8  12  16  20  24  28  32  36  40]\n",
      " [  5  10  15  20  25  30  35  40  45  50]\n",
      " [  6  12  18  24  30  36  42  48  54  60]\n",
      " [  7  14  21  28  35  42  49  56  63  70]\n",
      " [  8  16  24  32  40  48  56  64  72  80]\n",
      " [  9  18  27  36  45  54  63  72  81  90]\n",
      " [ 10  20  30  40  50  60  70  80  90 100]]\n"
     ]
    }
   ],
   "source": [
    "#professor's solution 1\n",
    "M=len(array_a)\n",
    "array_b=np.empty((M,M), dtype='int')\n",
    "\n",
    "for i, x in enumerate(array_a):\n",
    "    for j, y in enumerate(array_a):\n",
    "        array_b[i, j]=x*y\n",
    "\n",
    "print(array_b.size)\n",
    "print(array_b.shape)\n",
    "print(array_b)"
   ]
  }
 ],
 "metadata": {
  "kernelspec": {
   "display_name": "Python 3 (ipykernel)",
   "language": "python",
   "name": "python3"
  },
  "language_info": {
   "codemirror_mode": {
    "name": "ipython",
    "version": 3
   },
   "file_extension": ".py",
   "mimetype": "text/x-python",
   "name": "python",
   "nbconvert_exporter": "python",
   "pygments_lexer": "ipython3",
   "version": "3.9.7"
  }
 },
 "nbformat": 4,
 "nbformat_minor": 4
}
