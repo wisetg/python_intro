{
 "cells": [
  {
   "cell_type": "markdown",
   "metadata": {},
   "source": [
    "## Problem 1: 연속적인 구구단 계산기 프로그램을 만들어 보자."
   ]
  },
  {
   "cell_type": "markdown",
   "metadata": {},
   "source": [
    "## 이 프로그램의 규칙은 다음과 같다."
   ]
  },
  {
   "cell_type": "markdown",
   "metadata": {},
   "source": [
    "- 프로그램이 시작되면 '구구단 몇 단을 계산할까요(1~9)?'가 출력된다\n",
    "- 사용자는 계산하고 싶은 구구단 숫자를 입력한다.\n",
    "- 프로그램은 '구구단 n단을 계산합니다.' 라는 메세지와 함께 구구단의 결과를 출력한다. (n은 사용자가 입력한 n단)\n",
    "- 프로그램이 계속 실행되다가 종료 조건에 해당하는 숫자(0)를 사용자가 입력하면 프로그램이 종료된다."
   ]
  },
  {
   "cell_type": "code",
   "execution_count": null,
   "metadata": {},
   "outputs": [],
   "source": [
    "print(\"구구단 몇 단을 계산할까요(1~9)?\")"
   ]
  },
  {
   "cell_type": "markdown",
   "metadata": {},
   "source": [
    "## Problem 1의 프로그램을 완성하기 위해 아래에 코드를 채우시오."
   ]
  },
  {
   "cell_type": "code",
   "execution_count": null,
   "metadata": {},
   "outputs": [],
   "source": [
    "while True:\n",
    "    print(\"구구단 몇 단을 계산할까요(1~9)?\")\n",
    "    input_number=int(input())\n",
    "    if 0<input_number<10:\n",
    "        print(\"구구단 \", input_number, \"단을 계산 합니다.\")\n",
    "        for i in range (1,10):\n",
    "            print(input_number, \" x \", i, \" = \", input_number*i)\n",
    "    else:\n",
    "        print(\"구구단 게임을 종료합니다.\")\n",
    "        break"
   ]
  },
  {
   "cell_type": "markdown",
   "metadata": {},
   "source": [
    "## Problem 2: 리스트안에 홀수가 총 몇 개 포함되어 있는지 찾아주는 프로그램을 만들어 보자."
   ]
  },
  {
   "cell_type": "markdown",
   "metadata": {},
   "source": [
    "## 이 프로그램의 규칙은 다음과 같다.\n",
    "- 프로그램은 마지막에 '리스트안의 홀수 갯수: n' 라는 메세지와 함께 주어진 numbers라는 리스트안에 포함된 홀수의 갯수를 결과로 출력한다. (n은 실제 갯수)"
   ]
  },
  {
   "cell_type": "code",
   "execution_count": null,
   "metadata": {},
   "outputs": [],
   "source": [
    "numbers = [9,13,8,45,22,97,75,56,34,25,2,66,81,43]"
   ]
  },
  {
   "cell_type": "code",
   "execution_count": null,
   "metadata": {},
   "outputs": [],
   "source": [
    "numbers = [9,13,8,45,22,97,75,56,34,25,2,66,81,43]\n",
    "odd_number_num=0\n",
    "for odd_number in numbers:\n",
    "    if odd_number%2==1:\n",
    "        odd_number_num+=1\n",
    "print(\"리스트안의 홀수의 갯수: \", odd_number_num)"
   ]
  },
  {
   "cell_type": "code",
   "execution_count": null,
   "metadata": {},
   "outputs": [],
   "source": []
  }
 ],
 "metadata": {
  "kernelspec": {
   "display_name": "Python 3 (ipykernel)",
   "language": "python",
   "name": "python3"
  },
  "language_info": {
   "codemirror_mode": {
    "name": "ipython",
    "version": 3
   },
   "file_extension": ".py",
   "mimetype": "text/x-python",
   "name": "python",
   "nbconvert_exporter": "python",
   "pygments_lexer": "ipython3",
   "version": "3.9.7"
  }
 },
 "nbformat": 4,
 "nbformat_minor": 4
}
