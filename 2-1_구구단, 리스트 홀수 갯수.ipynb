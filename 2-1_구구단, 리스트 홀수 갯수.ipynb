{
 "cells": [
  {
   "cell_type": "markdown",
   "id": "e3fa4f9a",
   "metadata": {},
   "source": [
    "구구단 계산"
   ]
  },
  {
   "cell_type": "code",
   "execution_count": null,
   "id": "c5ca612d",
   "metadata": {},
   "outputs": [],
   "source": [
    "while True:\n",
    "    input_number=int(input())\n",
    "    if 0<input_number<10:\n",
    "        print(\"구구단 \", input_number, \"단을 계산 합니다.\")\n",
    "        for i in range (1,10):\n",
    "            print(input_number, \" x \", i, \" = \", input_number*i)\n",
    "        print(\"구구단 몇 단을 계산할까요(1~9)?\")\n",
    "    else:\n",
    "        print(\"구구단 게임을 종료합니다.\")\n",
    "        break"
   ]
  },
  {
   "cell_type": "markdown",
   "id": "44f0c2b2",
   "metadata": {},
   "source": [
    "리스트 안의 홀수 갯수"
   ]
  },
  {
   "cell_type": "code",
   "execution_count": null,
   "id": "81295b0d",
   "metadata": {},
   "outputs": [],
   "source": [
    "num_list=list(map(int, input().split()))\n",
    "odd_number_num=0\n",
    "for odd_number in num_list:\n",
    "    if odd_number%2==1:\n",
    "        odd_number_num+=1\n",
    "print(\"리스트안의 홀수의 갯수: \", odd_number_num)"
   ]
  },
  {
   "cell_type": "code",
   "execution_count": null,
   "id": "73051512",
   "metadata": {},
   "outputs": [],
   "source": []
  }
 ],
 "metadata": {
  "kernelspec": {
   "display_name": "Python 3 (ipykernel)",
   "language": "python",
   "name": "python3"
  },
  "language_info": {
   "codemirror_mode": {
    "name": "ipython",
    "version": 3
   },
   "file_extension": ".py",
   "mimetype": "text/x-python",
   "name": "python",
   "nbconvert_exporter": "python",
   "pygments_lexer": "ipython3",
   "version": "3.9.7"
  }
 },
 "nbformat": 4,
 "nbformat_minor": 5
}
