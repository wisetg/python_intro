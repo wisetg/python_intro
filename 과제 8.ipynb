{
 "cells": [
  {
   "cell_type": "markdown",
   "id": "1686dc00",
   "metadata": {},
   "source": [
    "박태건 2021127023"
   ]
  },
  {
   "cell_type": "code",
   "execution_count": 1,
   "id": "384ff913",
   "metadata": {},
   "outputs": [],
   "source": [
    "import numpy as np\n",
    "import matplotlib.pyplot as plt"
   ]
  },
  {
   "cell_type": "markdown",
   "id": "d69f3203",
   "metadata": {},
   "source": [
    "1. plt.plot으로 임의의 그래프 1개를 만드세요"
   ]
  },
  {
   "cell_type": "code",
   "execution_count": 2,
   "id": "5477ada0",
   "metadata": {},
   "outputs": [
    {
     "data": {
      "text/plain": [
       "[<matplotlib.lines.Line2D at 0x227d7cc8280>]"
      ]
     },
     "execution_count": 2,
     "metadata": {},
     "output_type": "execute_result"
    },
    {
     "data": {
      "image/png": "[encoded data removed]",
      "text/plain": [
       "<Figure size 432x288 with 1 Axes>"
      ]
     },
     "metadata": {
      "needs_background": "light"
     },
     "output_type": "display_data"
    }
   ],
   "source": [
    "x = [1, 2, 3, 4, 5]\n",
    "y = [1, 2, 3, 4, 5]\n",
    "\n",
    "plt.plot(x,y)"
   ]
  },
  {
   "cell_type": "markdown",
   "id": "d599ef81",
   "metadata": {},
   "source": [
    "2. plt.bar으로 임의의 그래프 1개를 만드세요"
   ]
  },
  {
   "cell_type": "code",
   "execution_count": null,
   "id": "dd703b0f",
   "metadata": {},
   "outputs": [],
   "source": [
    "x = "
   ]
  },
  {
   "cell_type": "markdown",
   "id": "82685867",
   "metadata": {},
   "source": [
    "3. plt.scatter으로 임의의 그래프 1개를 만드세요"
   ]
  },
  {
   "cell_type": "markdown",
   "id": "0055826b",
   "metadata": {},
   "source": [
    "4. plt.hist 으로 임의의 그래프 1개를 만드세요"
   ]
  },
  {
   "cell_type": "markdown",
   "id": "3ce13276",
   "metadata": {},
   "source": [
    "5. plt.subplots 를 이용해서 위 그래프 중 2개를 1개의 figure에 넣어보세요\n",
    "\n",
    "6. plt.imshow() 으로 임의의 그림 1개를 만드세요\n",
    "\n",
    "7. 임의의 함수를 정하고 이를 미분한 함수를 같이 만드세요. 이 둘을 한개의 그래프에 같이 표시하고 미분값이 의미하는 바를 적어보세요."
   ]
  }
 ],
 "metadata": {
  "kernelspec": {
   "display_name": "Python 3 (ipykernel)",
   "language": "python",
   "name": "python3"
  },
  "language_info": {
   "codemirror_mode": {
    "name": "ipython",
    "version": 3
   },
   "file_extension": ".py",
   "mimetype": "text/x-python",
   "name": "python",
   "nbconvert_exporter": "python",
   "pygments_lexer": "ipython3",
   "version": "3.9.7"
  }
 },
 "nbformat": 4,
 "nbformat_minor": 5
}
